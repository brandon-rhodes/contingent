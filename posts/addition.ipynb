{
 "metadata": {
  "date": "2014/03/01",
  "name": "One Thing About Addition",
  "signature": "sha256:11636d24766548784e9a99b00493f340d653c980261fee46282cc8cbc7655c62"
 },
 "nbformat": 3,
 "nbformat_minor": 0,
 "worksheets": [
  {
   "cells": [
    {
     "cell_type": "markdown",
     "metadata": {},
     "source": [
      "Adding two positive integers always\n",
      "produces a further positive integer as the sum:"
     ]
    },
    {
     "cell_type": "code",
     "collapsed": false,
     "input": [
      "3 + 4"
     ],
     "language": "python",
     "metadata": {},
     "outputs": [
      {
       "metadata": {},
       "output_type": "pyout",
       "prompt_number": 1,
       "text": [
        "7"
       ]
      }
     ],
     "prompt_number": 1
    }
   ],
   "metadata": {}
  }
 ]
}